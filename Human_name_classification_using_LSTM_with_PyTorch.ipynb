{
  "nbformat": 4,
  "nbformat_minor": 0,
  "metadata": {
    "colab": {
      "provenance": [],
      "authorship_tag": "ABX9TyOxp70vxKL7z0+21vapZKCW",
      "include_colab_link": true
    },
    "kernelspec": {
      "name": "python3",
      "display_name": "Python 3"
    },
    "language_info": {
      "name": "python"
    }
  },
  "cells": [
    {
      "cell_type": "markdown",
      "metadata": {
        "id": "view-in-github",
        "colab_type": "text"
      },
      "source": [
        "<a href=\"https://colab.research.google.com/github/MuhammadMazid/Human-name-classification-using-LSTM-with-PyTorch/blob/main/Human_name_classification_using_LSTM_with_PyTorch.ipynb\" target=\"_parent\"><img src=\"https://colab.research.google.com/assets/colab-badge.svg\" alt=\"Open In Colab\"/></a>"
      ]
    },
    {
      "cell_type": "code",
      "source": [
        "import io\n",
        "import os\n",
        "import unicodedata\n",
        "import string\n",
        "import glob\n",
        "\n",
        "import torch\n",
        "import random\n",
        "\n",
        "import pandas as pd\n"
      ],
      "metadata": {
        "id": "WlGsd-2r-73u"
      },
      "execution_count": null,
      "outputs": []
    },
    {
      "cell_type": "code",
      "source": [
        "filepath = 'C:\\\\Users\\\\muham\\\\Desktop\\\\names\\\\'\n"
      ],
      "metadata": {
        "id": "a2iW_qTdxuLa"
      },
      "execution_count": null,
      "outputs": []
    },
    {
      "cell_type": "code",
      "source": [
        "#load Data\n",
        "df = []\n",
        "name=[]\n",
        "for filename in listdir(filepath):\n",
        "  name.append(filename.replace(\".txt\", \"\"))\n",
        "  df.append(pd.read_table(filepath+filename, header=None))\n"
      ],
      "metadata": {
        "id": "rAFajGLhVlnc"
      },
      "execution_count": null,
      "outputs": []
    },
    {
      "cell_type": "code",
      "source": [
        "max_len=[]\n",
        "for i in range(len(df)):\n",
        "  max_len.append(np.max(len(df[i])))\n",
        "#print(np.max(max_len))\n",
        "\n",
        "\n",
        "data=pd.DataFrame(np.nan, index=range(np.max(max_len)), columns=range(len(df)))\n",
        "for i in range(len(df)):\n",
        "  data[i]=pd.DataFrame(df[i][0])\n",
        "data = data.set_axis(name, axis=1)\n",
        "data.head()"
      ],
      "metadata": {
        "colab": {
          "base_uri": "https://localhost:8080/",
          "height": 226
        },
        "id": "HZTviJCdl70Y",
        "outputId": "74f0732a-175d-443d-9766-49947ad0a755"
      },
      "execution_count": null,
      "outputs": [
        {
          "output_type": "execute_result",
          "data": {
            "text/plain": [
              "   Arabic  Chinese         Czech      Dutch English   French    German   \n",
              "0  Khoury      Ang           Abl   Aalsburg   Abbas     Abel    Abbing  \\\n",
              "1   Nahas  Au-Yong         Adsit      Aalst   Abbey  Abraham      Abel   \n",
              "2   Daher      Bai        Ajdrna      Aarle  Abbott     Adam     Abeln   \n",
              "3  Gerges      Ban           Alt   Achteren    Abdi   Albert       Abt   \n",
              "4  Nazari      Bao  Antonowitsch  Achthoven    Abel   Allard  Achilles   \n",
              "\n",
              "             Greek     Irish        Italian Japanese Korean      Polish   \n",
              "0         Adamidis      Adam     Abandonato      Abe    Ahn    Adamczak  \\\n",
              "1           Adamou    Ahearn     Abatangelo  Abukara   Baik    Adamczyk   \n",
              "2         Agelakos      Aodh    Abatantuono   Adachi   Bang   Andrysiak   \n",
              "3     Akrivopoulos     Aodha          Abate     Aida   Byon  Auttenberg   \n",
              "4  Alexandropoulos  Aonghuis  Abategiovanni   Aihara    Cha     Bartosz   \n",
              "\n",
              "    Portuguese     Russian  Scottish  Spanish Vietnamese  \n",
              "0        Abreu      Ababko     Smith    Abana     Nguyen  \n",
              "1  Albuquerque       Abaev     Brown    Abano       Tron  \n",
              "2      Almeida     Abagyan    Wilson   Abarca         Le  \n",
              "3        Alves   Abaidulin  Campbell   Abaroa       Pham  \n",
              "4       Araújo  Abaidullin   Stewart  Abascal      Huynh  "
            ],
            "text/html": [
              "<div>\n",
              "<style scoped>\n",
              "    .dataframe tbody tr th:only-of-type {\n",
              "        vertical-align: middle;\n",
              "    }\n",
              "\n",
              "    .dataframe tbody tr th {\n",
              "        vertical-align: top;\n",
              "    }\n",
              "\n",
              "    .dataframe thead th {\n",
              "        text-align: right;\n",
              "    }\n",
              "</style>\n",
              "<table border=\"1\" class=\"dataframe\">\n",
              "  <thead>\n",
              "    <tr style=\"text-align: right;\">\n",
              "      <th></th>\n",
              "      <th>Arabic</th>\n",
              "      <th>Chinese</th>\n",
              "      <th>Czech</th>\n",
              "      <th>Dutch</th>\n",
              "      <th>English</th>\n",
              "      <th>French</th>\n",
              "      <th>German</th>\n",
              "      <th>Greek</th>\n",
              "      <th>Irish</th>\n",
              "      <th>Italian</th>\n",
              "      <th>Japanese</th>\n",
              "      <th>Korean</th>\n",
              "      <th>Polish</th>\n",
              "      <th>Portuguese</th>\n",
              "      <th>Russian</th>\n",
              "      <th>Scottish</th>\n",
              "      <th>Spanish</th>\n",
              "      <th>Vietnamese</th>\n",
              "    </tr>\n",
              "  </thead>\n",
              "  <tbody>\n",
              "    <tr>\n",
              "      <th>0</th>\n",
              "      <td>Khoury</td>\n",
              "      <td>Ang</td>\n",
              "      <td>Abl</td>\n",
              "      <td>Aalsburg</td>\n",
              "      <td>Abbas</td>\n",
              "      <td>Abel</td>\n",
              "      <td>Abbing</td>\n",
              "      <td>Adamidis</td>\n",
              "      <td>Adam</td>\n",
              "      <td>Abandonato</td>\n",
              "      <td>Abe</td>\n",
              "      <td>Ahn</td>\n",
              "      <td>Adamczak</td>\n",
              "      <td>Abreu</td>\n",
              "      <td>Ababko</td>\n",
              "      <td>Smith</td>\n",
              "      <td>Abana</td>\n",
              "      <td>Nguyen</td>\n",
              "    </tr>\n",
              "    <tr>\n",
              "      <th>1</th>\n",
              "      <td>Nahas</td>\n",
              "      <td>Au-Yong</td>\n",
              "      <td>Adsit</td>\n",
              "      <td>Aalst</td>\n",
              "      <td>Abbey</td>\n",
              "      <td>Abraham</td>\n",
              "      <td>Abel</td>\n",
              "      <td>Adamou</td>\n",
              "      <td>Ahearn</td>\n",
              "      <td>Abatangelo</td>\n",
              "      <td>Abukara</td>\n",
              "      <td>Baik</td>\n",
              "      <td>Adamczyk</td>\n",
              "      <td>Albuquerque</td>\n",
              "      <td>Abaev</td>\n",
              "      <td>Brown</td>\n",
              "      <td>Abano</td>\n",
              "      <td>Tron</td>\n",
              "    </tr>\n",
              "    <tr>\n",
              "      <th>2</th>\n",
              "      <td>Daher</td>\n",
              "      <td>Bai</td>\n",
              "      <td>Ajdrna</td>\n",
              "      <td>Aarle</td>\n",
              "      <td>Abbott</td>\n",
              "      <td>Adam</td>\n",
              "      <td>Abeln</td>\n",
              "      <td>Agelakos</td>\n",
              "      <td>Aodh</td>\n",
              "      <td>Abatantuono</td>\n",
              "      <td>Adachi</td>\n",
              "      <td>Bang</td>\n",
              "      <td>Andrysiak</td>\n",
              "      <td>Almeida</td>\n",
              "      <td>Abagyan</td>\n",
              "      <td>Wilson</td>\n",
              "      <td>Abarca</td>\n",
              "      <td>Le</td>\n",
              "    </tr>\n",
              "    <tr>\n",
              "      <th>3</th>\n",
              "      <td>Gerges</td>\n",
              "      <td>Ban</td>\n",
              "      <td>Alt</td>\n",
              "      <td>Achteren</td>\n",
              "      <td>Abdi</td>\n",
              "      <td>Albert</td>\n",
              "      <td>Abt</td>\n",
              "      <td>Akrivopoulos</td>\n",
              "      <td>Aodha</td>\n",
              "      <td>Abate</td>\n",
              "      <td>Aida</td>\n",
              "      <td>Byon</td>\n",
              "      <td>Auttenberg</td>\n",
              "      <td>Alves</td>\n",
              "      <td>Abaidulin</td>\n",
              "      <td>Campbell</td>\n",
              "      <td>Abaroa</td>\n",
              "      <td>Pham</td>\n",
              "    </tr>\n",
              "    <tr>\n",
              "      <th>4</th>\n",
              "      <td>Nazari</td>\n",
              "      <td>Bao</td>\n",
              "      <td>Antonowitsch</td>\n",
              "      <td>Achthoven</td>\n",
              "      <td>Abel</td>\n",
              "      <td>Allard</td>\n",
              "      <td>Achilles</td>\n",
              "      <td>Alexandropoulos</td>\n",
              "      <td>Aonghuis</td>\n",
              "      <td>Abategiovanni</td>\n",
              "      <td>Aihara</td>\n",
              "      <td>Cha</td>\n",
              "      <td>Bartosz</td>\n",
              "      <td>Araújo</td>\n",
              "      <td>Abaidullin</td>\n",
              "      <td>Stewart</td>\n",
              "      <td>Abascal</td>\n",
              "      <td>Huynh</td>\n",
              "    </tr>\n",
              "  </tbody>\n",
              "</table>\n",
              "</div>"
            ]
          },
          "metadata": {},
          "execution_count": 464
        }
      ]
    },
    {
      "cell_type": "code",
      "source": [
        "len(data['Vietnamese'])"
      ],
      "metadata": {
        "colab": {
          "base_uri": "https://localhost:8080/"
        },
        "id": "XyDuAX2kAupT",
        "outputId": "e8ad5f90-4dfe-41b4-9880-7eab8742fe09"
      },
      "execution_count": null,
      "outputs": [
        {
          "output_type": "execute_result",
          "data": {
            "text/plain": [
              "9408"
            ]
          },
          "metadata": {},
          "execution_count": 465
        }
      ]
    },
    {
      "cell_type": "code",
      "source": [
        "# alphabet small + capital letters + \" .,;'\"\n",
        "ALL_LETTERS = string.ascii_letters + \" .,;'\"\n",
        "N_LETTERS = len(ALL_LETTERS)\n",
        "\n",
        "# Turn a Unicode string to plain ASCII, thanks to https://stackoverflow.com/a/518232/2809427\n",
        "def unicode_to_ascii(s):\n",
        "    return ''.join(\n",
        "        c for c in unicodedata.normalize('NFD', s)\n",
        "        if unicodedata.category(c) != 'Mn'\n",
        "        and c in ALL_LETTERS\n",
        "    )"
      ],
      "metadata": {
        "id": "PGKMCAPM8H5d"
      },
      "execution_count": null,
      "outputs": []
    },
    {
      "cell_type": "code",
      "source": [
        "def load_data():\n",
        "    # Build the category_lines dictionary, a list of names per language\n",
        "    category_lines = {}\n",
        "    all_categories = []\n",
        "\n",
        "    # Read a file and split into lines\n",
        "    def read_lines(filename):\n",
        "        lines = io.open(filename, encoding='utf-8').read().strip().split('\\n')\n",
        "        return [unicode_to_ascii(line) for line in lines]\n",
        "\n",
        "    for filename in glob.glob('C:\\\\Users\\\\muham\\\\Desktop\\\\names\\\\*.txt'):\n",
        "        category = os.path.splitext(os.path.basename(filename))[0]\n",
        "        all_categories.append(category)\n",
        "\n",
        "        lines = read_lines(filename)\n",
        "        category_lines[category] = lines\n",
        "\n",
        "    return category_lines, all_categories"
      ],
      "metadata": {
        "id": "PElo54W0rhJ7"
      },
      "execution_count": null,
      "outputs": []
    },
    {
      "cell_type": "code",
      "source": [
        "\"\"\"To represent a single letter, we use a “one-hot vector” of\n",
        "size <1 x n_letters>. A one-hot vector is filled with 0s\n",
        "except for a 1 at index of the current letter, e.g. \"b\" = <0 1 0 0 0 ...>.\n",
        "\n",
        "To make a word we join a bunch of those into a\n",
        "2D matrix <line_length x 1 x n_letters>.\n",
        "\n",
        "That extra 1 dimension is because PyTorch assumes\n",
        "everything is in batches - we’re just using a batch size of 1 here.\n",
        "\"\"\"\n",
        "\n",
        "# Find letter index from all_letters, e.g. \"a\" = 0\n",
        "def letter_to_index(letter):\n",
        "    return ALL_LETTERS.find(letter)\n",
        "\n",
        "# Just for demonstration, turn a letter into a <1 x n_letters> Tensor\n",
        "def letter_to_tensor(letter):\n",
        "    tensor = torch.zeros(1, N_LETTERS)\n",
        "    tensor[0][letter_to_index(letter)] = 1\n",
        "    return tensor\n",
        "\n",
        "# Turn a line into a <line_length x 1 x n_letters>,\n",
        "# or an array of one-hot letter vectors\n",
        "def line_to_tensor(line):\n",
        "    tensor = torch.zeros(len(line), 1, N_LETTERS)\n",
        "    for i, letter in enumerate(line):\n",
        "        tensor[i][0][letter_to_index(letter)] = 1\n",
        "    return tensor\n"
      ],
      "metadata": {
        "id": "wrLmEp-WsIy7"
      },
      "execution_count": null,
      "outputs": []
    },
    {
      "cell_type": "code",
      "source": [
        "def random_training_example(category_lines, all_categories):\n",
        "\n",
        "    def random_choice(a):\n",
        "        random_idx = random.randint(0, len(a) - 1)\n",
        "        return a[random_idx]\n",
        "\n",
        "    category = random_choice(all_categories)\n",
        "    line = random_choice(category_lines[category])\n",
        "    category_tensor = torch.tensor([all_categories.index(category)], dtype=torch.long)\n",
        "    line_tensor = line_to_tensor(line)\n",
        "    return category, line, category_tensor, line_tensor\n",
        "\n"
      ],
      "metadata": {
        "id": "13pyPHy_LvbO"
      },
      "execution_count": null,
      "outputs": []
    },
    {
      "cell_type": "code",
      "source": [
        "import torch\n",
        "import torch.nn as nn\n",
        "import matplotlib.pyplot as plt\n"
      ],
      "metadata": {
        "id": "BIRyyU_aQqEt"
      },
      "execution_count": null,
      "outputs": []
    },
    {
      "cell_type": "code",
      "source": [
        "class RNN(nn.Module):\n",
        "    # implement RNN from scratch rather than using nn.RNN\n",
        "    def __init__(self, input_size, hidden_size, output_size):\n",
        "        super(RNN, self).__init__()\n",
        "\n",
        "        self.hidden_size = hidden_size\n",
        "        self.i2h = nn.Linear(input_size + hidden_size, hidden_size)\n",
        "        self.i2o = nn.Linear(input_size + hidden_size, output_size)\n",
        "        self.softmax = nn.LogSoftmax(dim=1)\n",
        "\n",
        "    def forward(self, input_tensor, hidden_tensor):\n",
        "        combined = torch.cat((input_tensor, hidden_tensor), 1)\n",
        "\n",
        "        hidden = self.i2h(combined)\n",
        "        output = self.i2o(combined)\n",
        "        output = self.softmax(output)\n",
        "        return output, hidden\n",
        "\n",
        "    def init_hidden(self):\n",
        "        return torch.zeros(1, self.hidden_size)\n",
        "\n"
      ],
      "metadata": {
        "id": "LFm1RUTBSZyF"
      },
      "execution_count": null,
      "outputs": []
    },
    {
      "cell_type": "code",
      "source": [
        "category_lines, all_categories = load_data()\n",
        "n_categories = len(all_categories)"
      ],
      "metadata": {
        "id": "jSBD9kIICuA4"
      },
      "execution_count": null,
      "outputs": []
    },
    {
      "cell_type": "code",
      "source": [
        "n_hidden = 128\n",
        "rnn = RNN(N_LETTERS, n_hidden, n_categories)\n"
      ],
      "metadata": {
        "id": "vEy4Ws3S78lT"
      },
      "execution_count": null,
      "outputs": []
    },
    {
      "cell_type": "code",
      "source": [
        "#Helper function get catagory\n",
        "\n",
        "def category_from_output(output):\n",
        "    category_idx = torch.argmax(output).item()\n",
        "    return all_categories[category_idx]\n"
      ],
      "metadata": {
        "id": "ji7s07qxlF5a"
      },
      "execution_count": null,
      "outputs": []
    },
    {
      "cell_type": "code",
      "source": [
        "criterion = nn.NLLLoss()\n",
        "learning_rate = 0.005\n",
        "optimizer = torch.optim.SGD(rnn.parameters(), lr=learning_rate)\n"
      ],
      "metadata": {
        "id": "LfXLHnlcn9FT"
      },
      "execution_count": null,
      "outputs": []
    },
    {
      "cell_type": "code",
      "source": [
        "def train(line_tensor, category_tensor):\n",
        "    hidden = rnn.init_hidden()\n",
        "\n",
        "    for i in range(line_tensor.size()[0]):\n",
        "        output, hidden = rnn(line_tensor[i], hidden)\n",
        "\n",
        "    loss = criterion(output, category_tensor)\n",
        "\n",
        "    optimizer.zero_grad()\n",
        "    loss.backward()\n",
        "    optimizer.step()\n",
        "\n",
        "    return output, loss.item()\n",
        "\n"
      ],
      "metadata": {
        "id": "6mL-sG9LofUm"
      },
      "execution_count": null,
      "outputs": []
    },
    {
      "cell_type": "code",
      "source": [
        "current_loss = 0\n",
        "all_losses = []\n",
        "plot_steps, print_steps = 1000, 5000\n",
        "n_iters = 100000\n",
        "for i in range(n_iters):\n",
        "    category, line, category_tensor, line_tensor = random_training_example(category_lines, all_categories)\n",
        "\n",
        "    output, loss = train(line_tensor, category_tensor)\n",
        "    current_loss += loss\n",
        "\n",
        "    if (i+1) % plot_steps == 0:\n",
        "        all_losses.append(current_loss / plot_steps)\n",
        "        current_loss = 0\n",
        "\n",
        "    if (i+1) % print_steps == 0:\n",
        "        guess = category_from_output(output)\n",
        "        correct = \"CORRECT\" if guess == category else f\"WRONG ({category})\"\n",
        "        print(f\"{i+1} {(i+1)/n_iters*100} {loss:.4f} {line} / {guess} {correct}\")"
      ],
      "metadata": {
        "colab": {
          "base_uri": "https://localhost:8080/"
        },
        "id": "xvK3B7glvsKB",
        "outputId": "7677c71b-030a-49d6-a78a-4fd9d13ab9ea"
      },
      "execution_count": null,
      "outputs": [
        {
          "output_type": "stream",
          "name": "stdout",
          "text": [
            "5000 5.0 2.5043 O'Malley / French WRONG (Irish)\n",
            "10000 10.0 3.5606 Rooijakker / Russian WRONG (Dutch)\n",
            "15000 15.0 1.0512 Quang / Vietnamese CORRECT\n",
            "20000 20.0 2.1374 Chermak / Polish WRONG (Czech)\n",
            "25000 25.0 1.3432 Ritter / German CORRECT\n",
            "30000 30.0 1.6898 Jiang / Vietnamese WRONG (Chinese)\n",
            "35000 35.0 4.7664 Haruguchi / Italian WRONG (Japanese)\n",
            "40000 40.0 1.7872 Urista / Spanish WRONG (Czech)\n",
            "45000 45.0 1.7942 Jacobson / Scottish WRONG (English)\n",
            "50000 50.0 1.7485 Strobel / Dutch WRONG (German)\n",
            "55000 55.00000000000001 1.4322 Jorda / Spanish CORRECT\n",
            "60000 60.0 0.8399 Attia / Arabic CORRECT\n",
            "65000 65.0 1.5417 Allegro / Portuguese WRONG (Italian)\n",
            "70000 70.0 0.5505 Beaulieu / French CORRECT\n",
            "75000 75.0 0.1824 Mishima / Japanese CORRECT\n",
            "80000 80.0 2.4291 Jamussa / Czech WRONG (Greek)\n",
            "85000 85.0 2.1911 Kaliashvili / Greek WRONG (Russian)\n",
            "90000 90.0 1.7498 Hawtin / Russian WRONG (English)\n",
            "95000 95.0 0.0164 Shibasaki / Japanese CORRECT\n",
            "100000 100.0 0.5293 Dertilis / Greek CORRECT\n"
          ]
        }
      ]
    },
    {
      "cell_type": "code",
      "source": [
        "plt.figure()\n",
        "plt.plot(all_losses)\n",
        "plt.show()"
      ],
      "metadata": {
        "colab": {
          "base_uri": "https://localhost:8080/",
          "height": 430
        },
        "id": "Y6kK52r_0zvm",
        "outputId": "56329fc4-1e1e-44b3-ee8d-80d7098d9417"
      },
      "execution_count": null,
      "outputs": [
        {
          "output_type": "display_data",
          "data": {
            "text/plain": [
              "<Figure size 640x480 with 1 Axes>"
            ],
            "image/png": "[encoded data removed]"
          },
          "metadata": {}
        }
      ]
    },
    {
      "cell_type": "code",
      "source": [
        "def predict(input_line):\n",
        "    print(f\"\\n> {input_line}\")\n",
        "    with torch.no_grad():\n",
        "        line_tensor = line_to_tensor(input_line)\n",
        "\n",
        "        hidden = rnn.init_hidden()\n",
        "\n",
        "        for i in range(line_tensor.size()[0]):\n",
        "            output, hidden = rnn(line_tensor[i], hidden)\n",
        "\n",
        "        guess = category_from_output(output)\n",
        "        print(guess)\n",
        "\n",
        "\n",
        "while True:\n",
        "    sentence = input(\"Input:\")\n",
        "    if sentence == \"quit\":\n",
        "        break\n",
        "\n",
        "    predict(sentence)"
      ],
      "metadata": {
        "colab": {
          "base_uri": "https://localhost:8080/"
        },
        "id": "idgAP7_0wiYI",
        "outputId": "39609451-49b7-4e97-af87-3c277bfca570"
      },
      "execution_count": null,
      "outputs": [
        {
          "name": "stdout",
          "output_type": "stream",
          "text": [
            "Input:tom\n",
            "\n",
            "> tom\n",
            "English\n",
            "Input:abu\n",
            "\n",
            "> abu\n",
            "Japanese\n",
            "Input:ibn\n",
            "\n",
            "> ibn\n",
            "Irish\n",
            "Input:fahad\n",
            "\n",
            "> fahad\n",
            "Arabic\n",
            "Input:don\n",
            "\n",
            "> don\n",
            "English\n",
            "Input:quit\n"
          ]
        }
      ]
    },
    {
      "cell_type": "code",
      "source": [],
      "metadata": {
        "id": "nA4rCTlj5P_U"
      },
      "execution_count": null,
      "outputs": []
    },
    {
      "cell_type": "markdown",
      "source": [
        " RNN & LSTM & *GRU*"
      ],
      "metadata": {
        "id": "yX_2nlfGRMXF"
      }
    },
    {
      "cell_type": "code",
      "source": [],
      "metadata": {
        "id": "zvyQw5FGRO6O"
      },
      "execution_count": null,
      "outputs": []
    }
  ]
}